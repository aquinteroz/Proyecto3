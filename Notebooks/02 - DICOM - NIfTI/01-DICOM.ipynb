{
 "cells": [
  {
   "cell_type": "markdown",
   "id": "a5573ced-03a1-4a19-9d66-e84baa358f05",
   "metadata": {},
   "source": [
    "## Introduction\n",
    "En este *Notebook* aprenderemos cómo manejar archivos DICOM en Python.<br />\n",
    "Para cumplir esta tarea utilizamos un subconjunto de imágenes de TC del *Cancer Imaging Archive TCIA* (1, 2)<br />(https://www.kaggle.com/kmader/siim-medical-images) que contiene cortes únicos de TC.<br />\n",
    "\n",
    "Si desea descargar los datos, inicie sesión en kaggle y navegue hasta esta página: https://www.kaggle.com/kmader/siim-medical-images\n",
    "\n",
    "(1) Albertina, B., Watson, M., Holback, C., Jarosz, R., Kirk, S., Lee, Y., … Lemmerman, J. (2016). Radiology Data from The Cancer Genome Atlas Lung Adenocarcinoma [TCGA-LUAD] collection. The Cancer Imaging Archive. http://doi.org/10.7937/K9/TCIA.2016.JGNIHEP5\n",
    "\n",
    "(2) Clark K, Vendt B, Smith K, Freymann J, Kirby J, Koppel P, Moore S, Phillips S, Maffitt D, Pringle M, Tarbox L, Prior F. The Cancer Imaging Archive (TCIA): Maintaining and Operating a Public Information Repository, Journal of Digital Imaging, Volume 26, Number 6, December, 2013, pp 1045-1057. (paper)"
   ]
  },
  {
   "cell_type": "markdown",
   "id": "31c40945-c7b2-4f20-a431-6c68ab098357",
   "metadata": {},
   "source": [
    "## Importaciones\n",
    "* **pathlib** para un fácil manejo de rutas\n",
    "* **pydicom** para manejar archivos dicom\n",
    "* **matplotlib** para visualización\n",
    "* **numpy** para crear el contenedor 3D"
   ]
  },
  {
   "cell_type": "code",
   "execution_count": null,
   "id": "stylish-journey",
   "metadata": {},
   "outputs": [],
   "source": [
    "from pathlib import Path\n",
    "\n",
    "import pydicom \n",
    "import matplotlib.pyplot as plt\n",
    "import numpy as np"
   ]
  },
  {
   "cell_type": "markdown",
   "id": "secret-michael",
   "metadata": {},
   "source": [
    "## Lectura del archivo DICOM\n",
    "Para esto, usamos la función ``read_file(path)`` de la librería **pydicom**"
   ]
  },
  {
   "cell_type": "code",
   "execution_count": null,
   "id": "aerial-spelling",
   "metadata": {},
   "outputs": [],
   "source": [
    "sample_dcm = \"ID_0000_AGE_0060_CONTRAST_1_CT.dcm\"\n",
    "dicom_file = pydicom.read_file(sample_dcm)"
   ]
  },
  {
   "cell_type": "markdown",
   "id": "simple-duncan",
   "metadata": {},
   "source": [
    "Echemos un vistazo a lo que contiene este archivo.\n",
    "Puede imprimir el archivo DICOM para obtener una gran cantidad de información, que contiene, por ejemplo, la empresa que construyó el escáner (SIEMENS en este caso), la forma de la imagen (filas, columnas, 512x512 en este caso), la altura de la tabla, toda la información sobre el paciente (por supuesto, la información personal se anonimiza aquí) y, de gran importancia, la orientación de la imagen.\n",
    "\n",
    "No dudes en desplazarte por la información disponible.le."
   ]
  },
  {
   "cell_type": "code",
   "execution_count": null,
   "id": "final-syntax",
   "metadata": {},
   "outputs": [],
   "source": [
    "print(dicom_file)"
   ]
  },
  {
   "cell_type": "markdown",
   "id": "79caa3fc-ecfe-4c27-8da9-c7505306f6f4",
   "metadata": {},
   "source": [
    "Puede acceder a las etiquetas dicom utilizando los identificadores codificados en hexadecimal al comienzo de cada línea. Como ejemplo, si desea obtener la forma de la imagen, puede utilizar esos dos identificadores.\n",
    "\n",
    "* (0028, 0010) Rows\n",
    "* (0028, 0011) Columns\n",
    "* (0018, 0015) Body Part Examined\n",
    "\n",
    "El 0x delante del identificador le dice al intérprete de Python que debe interpretar este valor como hexadecimal."
   ]
  },
  {
   "cell_type": "code",
   "execution_count": null,
   "id": "affecting-lodge",
   "metadata": {},
   "outputs": [],
   "source": [
    "print(dicom_file[0x0028, 0x0010])\n",
    "print(dicom_file[0x0028, 0x0011])\n",
    "print(dicom_file[0x0018, 0x0015])"
   ]
  },
  {
   "cell_type": "markdown",
   "id": "bef9edf4-3515-4a5a-a3d7-8df3ff83f8dd",
   "metadata": {},
   "source": [
    "Existe una forma alternativa y más directa de acceder a los valores de las etiquetas del encabezado DICOM utilizando las descripciones de las etiquetas.\n",
    "Tenga en cuenta la inscripción: \"Body Part Examined\" se convierte en \"'BodyPartExamined\" (el llamado caso Pascal):"
   ]
  },
  {
   "cell_type": "code",
   "execution_count": null,
   "id": "worth-greenhouse",
   "metadata": {},
   "outputs": [],
   "source": [
    "print('Rows: ', dicom_file.Rows)\n",
    "print('Columns: ', dicom_file.Columns)\n",
    "print('Body Part Examined: ', dicom_file.BodyPartExamined)"
   ]
  },
  {
   "cell_type": "markdown",
   "id": "93f6e200-564b-4440-962a-1bf8ca44f019",
   "metadata": {},
   "source": [
    "## Accediendo a la información del cuerpo DICOM (la imagen real):\n",
    "\n",
    "``pixel_array`` contiene los datos de la imagen real:"
   ]
  },
  {
   "cell_type": "code",
   "execution_count": null,
   "id": "atmospheric-marijuana",
   "metadata": {},
   "outputs": [],
   "source": [
    "ct = dicom_file.pixel_array\n",
    "plt.figure()\n",
    "plt.imshow(ct, cmap=\"cividis\")"
   ]
  },
  {
   "cell_type": "markdown",
   "id": "stuck-forward",
   "metadata": {},
   "source": [
    "Podemos realizar una verificación rápida de cordura y asegurarnos de que la forma de la imagen corresponda a las Filas y Columnas que vimos anteriormente en la información del encabezado (512x512)."
   ]
  },
  {
   "cell_type": "code",
   "execution_count": null,
   "id": "fitted-monitoring",
   "metadata": {},
   "outputs": [],
   "source": [
    "print(ct.shape)"
   ]
  },
  {
   "cell_type": "markdown",
   "id": "60acc1c9-3ff2-4a2e-a49a-6a3997c19f28",
   "metadata": {},
   "source": [
    "## Datos 3D\n",
    "En esta sección veremos una resonancia magnética de cabeza completa, para que aprendas cómo manejar datos 3D almacenados como múltiples archivos DICOM 2D.\n",
    "\n",
    "Los datos se toman de aquí (https://zenodo.org/record/16956#.YFMM5PtKiV5) (3)\n",
    "\n",
    "Puede descargarlo directamente desde el enlace haciendo clic en el botón de descarga junto al botón de vista previa.\n",
    "\n",
    "Nuevamente descomprimimos el directorio tras obtenerlo.\n",
    "\n",
    "Normalmente hay un archivo para cada segmento, por lo que necesitamos leer todos los archivos y agregar los segmentos a una lista."
   ]
  },
  {
   "cell_type": "code",
   "execution_count": null,
   "id": "golden-provision",
   "metadata": {},
   "outputs": [],
   "source": [
    "path_to_head_mri = Path(\"SE000001\")"
   ]
  },
  {
   "cell_type": "markdown",
   "id": "liberal-heating",
   "metadata": {},
   "source": [
    "Podemos usar la función ``glob`` para devolver todos los elementos de un directorio que correspondan al patrón proporcionado.\r\n",
    "Como en este caso, el directorio solo contiene los archivos DICOM, podemos devolver todos los archivos que contiene (\"*\")"
   ]
  },
  {
   "cell_type": "code",
   "execution_count": null,
   "id": "chronic-profession",
   "metadata": {},
   "outputs": [],
   "source": [
    "all_files = list(path_to_head_mri.glob(\"*\"))"
   ]
  },
  {
   "cell_type": "code",
   "execution_count": null,
   "id": "partial-trading",
   "metadata": {},
   "outputs": [],
   "source": [
    "all_files"
   ]
  },
  {
   "cell_type": "markdown",
   "id": "bb240b0e-b247-4d24-867d-540bb89c217b",
   "metadata": {},
   "source": [
    "Ahora leeremos estos archivos usando el método ``read_file`` y los agregaremos a una lista."
   ]
  },
  {
   "cell_type": "code",
   "execution_count": null,
   "id": "respected-nicholas",
   "metadata": {},
   "outputs": [],
   "source": [
    "mri_data = []\n",
    "\n",
    "for path in all_files:\n",
    "    data = pydicom.read_file(path) # read the single DICOM files\n",
    "    mri_data.append(data)\n",
    "print(len(mri_data))"
   ]
  },
  {
   "cell_type": "markdown",
   "id": "b6daa4f2-f117-4494-bc6e-322bee3c762e",
   "metadata": {},
   "source": [
    "Como puede ver en las rutas impresas anteriores, es posible que los archivos DICOM no estén ordenados según su posición real de imagen. <br />\n",
    "Esto se puede verificar inspeccionando ``SliceLocation``"
   ]
  },
  {
   "cell_type": "code",
   "execution_count": null,
   "id": "talented-coordination",
   "metadata": {},
   "outputs": [],
   "source": [
    "for slice in mri_data[:5]:\n",
    "    print(slice.SliceLocation)"
   ]
  },
  {
   "cell_type": "markdown",
   "id": "dbc94985-4363-40a9-a74e-e35818f24a8e",
   "metadata": {},
   "source": [
    "Es fundamental ordenarlos, ya que de lo contrario el escaneo completo se mezclaría y sería inútil.\n",
    "\n",
    "Podemos usar el atributo ``SliceLocation`` pasado a la función ``sorted`` para identificar la posición del corte 2D y así ordenar los cortes."
   ]
  },
  {
   "cell_type": "code",
   "execution_count": null,
   "id": "equivalent-tobago",
   "metadata": {},
   "outputs": [],
   "source": [
    "mri_data_ordered = sorted(mri_data, key=lambda slice: slice.SliceLocation) \n",
    "\n",
    "for slice in mri_data_ordered[:5]:\n",
    "    print(slice.SliceLocation)"
   ]
  },
  {
   "cell_type": "markdown",
   "id": "bright-wheat",
   "metadata": {},
   "source": [
    "Ahora extraemos los datos reales (``pixel_arrays``) de los archivos DICOM y los almacenamos en una lista."
   ]
  },
  {
   "cell_type": "code",
   "execution_count": null,
   "id": "cardiovascular-edward",
   "metadata": {},
   "outputs": [],
   "source": [
    "full_volume = []\n",
    "for slice in mri_data_ordered:\n",
    "    full_volume.append(slice.pixel_array)\n",
    "full_volume = np.array(full_volume)\n",
    "print(full_volume.shape)"
   ]
  },
  {
   "cell_type": "markdown",
   "id": "desirable-nepal",
   "metadata": {},
   "source": [
    "Y ahora podemos echar un vistazo a algunas porciones del volumen 3D ordenado:"
   ]
  },
  {
   "cell_type": "code",
   "execution_count": null,
   "id": "recent-prison",
   "metadata": {},
   "outputs": [],
   "source": [
    "fig, axis = plt.subplots(3, 3, figsize=(10, 10))\n",
    "\n",
    "slice_counter = 0\n",
    "for i in range(3):\n",
    "    for j in range(3):\n",
    "        axis[i][j].imshow(full_volume[slice_counter], cmap=\"gray\")\n",
    "        slice_counter+=1"
   ]
  },
  {
   "cell_type": "markdown",
   "id": "d704d6a3-1666-42a5-855c-ada27e0a3847",
   "metadata": {},
   "source": [
    "**¡Impresionante!** <br />\n",
    "Ahora tenemos una forma de manejar datos 2D y 3D almacenados en formato DICOM.\n",
    "\n",
    "Pero (como habrás notado), la lectura y ordenación manual de archivos parece un poco tediosa, sería genial si hubiera una herramienta que se encargara de esto por nosotros.\n",
    "\n",
    "Lo existe y su nombre es SimpleITK https://pypi.org/project/SimpleITK/\n",
    "\n",
    "SimpleITK proporciona funcionalidad para detectar y leer automáticamente todos los archivos dicom sin que usted administre la lectura del archivo o el orden de los cortes.\n",
    "\n",
    "La rutina general es siempre idéntica.\n",
    "\n",
    "1. Obtenga los ID de serie de todos los archivos del directorio. Esto es importante ya que también puede haber varios escaneos en el mismo directorio y no queremos mezclarlos. ``ImageSeriesReader.GetGDCMSeriesIDs(ruta)`` maneja esto y devuelve todos los ID que puede encontrar\n",
    "2. Luego devolvemos todos los nombres de archivos en el directorio que tienen nuestro ID deseado ``ImageSeriesReader.GetGDCMSeriesFileNames(ruta, ID)`` proporciona esta funcionalidad\n",
    "3. Luego definimos el lector de imágenes llamado ``ImageSeriesReader()`` y le damos los nombres de los archivos usando ``SetFileNames(file_names)``\n",
    "4. Finalmente ejecutamos el lector para obtener los datos deseados llamando a ``Execute()``\n",
    "\n",
    "Vamos:\n",
    "Al principio importamos las bibliotecas necesarias:"
   ]
  },
  {
   "cell_type": "code",
   "execution_count": null,
   "id": "inappropriate-diving",
   "metadata": {},
   "outputs": [],
   "source": [
    "import SimpleITK as sitk"
   ]
  },
  {
   "cell_type": "code",
   "execution_count": null,
   "id": "binary-optimum",
   "metadata": {},
   "outputs": [],
   "source": [
    "series_ids = sitk.ImageSeriesReader.GetGDCMSeriesIDs(str(path_to_head_mri))\n",
    "print(series_ids)"
   ]
  },
  {
   "cell_type": "code",
   "execution_count": null,
   "id": "distinguished-carnival",
   "metadata": {},
   "outputs": [],
   "source": [
    "series_file_names = sitk.ImageSeriesReader.GetGDCMSeriesFileNames(str(path_to_head_mri), series_ids[0])\n",
    "series_file_names  # Notice how the files are already ordered"
   ]
  },
  {
   "cell_type": "code",
   "execution_count": null,
   "id": "modified-corner",
   "metadata": {},
   "outputs": [],
   "source": [
    "series_reader = sitk.ImageSeriesReader()\n",
    "series_reader.SetFileNames(series_file_names)"
   ]
  },
  {
   "cell_type": "code",
   "execution_count": null,
   "id": "widespread-corporation",
   "metadata": {},
   "outputs": [],
   "source": [
    "image_data = series_reader.Execute()"
   ]
  },
  {
   "cell_type": "code",
   "execution_count": null,
   "id": "pointed-seeker",
   "metadata": {},
   "outputs": [],
   "source": [
    "print(image_data.GetSize())"
   ]
  },
  {
   "cell_type": "markdown",
   "id": "c95bb2b0-2e1d-4674-98a0-12b187690a2e",
   "metadata": {},
   "source": [
    "### Esto es todo lo que tienes que hacer para obtener tus datos volumétricos completos.\n",
    "Como puede ver, la forma es (256, 256, 27), mientras que arriba la forma era (27, 256, 256).\n",
    "Esto se debe simplemente a un orden diferente de dimensiones de la imagen. <br />\n",
    "\n",
    "El último paso que debemos realizar es la conversión del objeto de imagen sitk en una matriz numpy. Esto se puede hacer llamando a ``GetArrayFromImage(image_data)``"
   ]
  },
  {
   "cell_type": "code",
   "execution_count": null,
   "id": "electoral-norway",
   "metadata": {},
   "outputs": [],
   "source": [
    "head_mri = sitk.GetArrayFromImage(image_data)\n",
    "print(type(head_mri))\n",
    "print(head_mri.shape)"
   ]
  },
  {
   "cell_type": "markdown",
   "id": "capable-heather",
   "metadata": {},
   "source": [
    "Como puede ver, también movió directamente el canal de corte al frente. ¡Genial!\r\n",
    "¡Ahora podemos echar un vistazo a nuestras imágenes y como puedes ver el resultado es idéntico al de arriba!"
   ]
  },
  {
   "cell_type": "code",
   "execution_count": null,
   "id": "compact-april",
   "metadata": {},
   "outputs": [],
   "source": [
    "fig, axis = plt.subplots(3, 3, figsize=(10, 10))\n",
    "\n",
    "slice_counter = 0\n",
    "for i in range(3):\n",
    "    for j in range(3):\n",
    "        axis[i][j].imshow(head_mri[slice_counter], cmap=\"gray\")\n",
    "        slice_counter+=1"
   ]
  },
  {
   "cell_type": "markdown",
   "id": "polished-ending",
   "metadata": {},
   "source": [
    "Ahora tienes todas las herramientas para trabajar con archivos almacenados en formato DICOM."
   ]
  }
 ],
 "metadata": {
  "kernelspec": {
   "display_name": "Python 3 (ipykernel)",
   "language": "python",
   "name": "python3"
  },
  "language_info": {
   "codemirror_mode": {
    "name": "ipython",
    "version": 3
   },
   "file_extension": ".py",
   "mimetype": "text/x-python",
   "name": "python",
   "nbconvert_exporter": "python",
   "pygments_lexer": "ipython3",
   "version": "3.11.8"
  }
 },
 "nbformat": 4,
 "nbformat_minor": 5
}
