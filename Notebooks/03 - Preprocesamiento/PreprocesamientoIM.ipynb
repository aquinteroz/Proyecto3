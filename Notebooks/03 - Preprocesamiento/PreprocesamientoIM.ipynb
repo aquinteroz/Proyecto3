{
 "cells": [
  {
   "cell_type": "markdown",
   "id": "hispanic-spectacular",
   "metadata": {},
   "source": [
    "# Importaciones"
   ]
  },
  {
   "cell_type": "code",
   "execution_count": null,
   "id": "combined-ordinance",
   "metadata": {},
   "outputs": [],
   "source": [
    "%matplotlib inline\n",
    "import nibabel as nib\n",
    "import matplotlib.pyplot as plt\n",
    "import numpy as np"
   ]
  },
  {
   "cell_type": "markdown",
   "id": "amateur-bristol",
   "metadata": {},
   "source": [
    "Para mostrar los pasos seguidos en el preprocesamiento de imágenes 3d obtenidas con MRI (NIfTI), trabajaremos con el esaceno de un cerebro disponible en la base de datos IXI: https://brain-development.org/ixi-dataset/\n",
    "(Data License: CC BY-SA 3.0 license, https://creativecommons.org/licenses/by-sa/3.0/)"
   ]
  },
  {
   "cell_type": "markdown",
   "id": "sunrise-joseph",
   "metadata": {},
   "source": [
    "## Orientación\n"
   ]
  },
  {
   "cell_type": "markdown",
   "id": "9a99e546",
   "metadata": {},
   "source": [
    "Primero cargamos la secuencia T1w y extraemos el volumen:"
   ]
  },
  {
   "cell_type": "code",
   "execution_count": null,
   "id": "controversial-citation",
   "metadata": {},
   "outputs": [],
   "source": [
    "brain_mri = nib.load(\"IXI662-Guys-1120-T1.nii.gz\")\n",
    "brain_mri_data = brain_mri.get_fdata()"
   ]
  },
  {
   "cell_type": "markdown",
   "id": "1ab0e820",
   "metadata": {},
   "source": [
    "Luego extraemos su forma y su matriz afín"
   ]
  },
  {
   "cell_type": "code",
   "execution_count": null,
   "id": "toxic-klein",
   "metadata": {},
   "outputs": [],
   "source": [
    "shape = brain_mri.shape\n",
    "affine = brain_mri.affine\n",
    "print(affine)\n",
    "print(shape)"
   ]
  },
  {
   "cell_type": "code",
   "execution_count": null,
   "id": "aboriginal-raise",
   "metadata": {},
   "outputs": [],
   "source": [
    "affine[:, 3:]"
   ]
  },
  {
   "cell_type": "markdown",
   "id": "24dab927-01b7-46b6-b490-51b360d543a5",
   "metadata": {},
   "source": [
    "La matriz afín describe el mapeo de coordenadas pixel a coordenadas del resonador (o del mundo real):\n",
    "Siempre es es una matriz $4 \\times 4$ con el siguiente esquema:\n",
    "\n",
    "$$\n",
    "  \\left(\\begin{array}{cccc}\n",
    "    \\color{red}{x_{1,1}}  & \\color{red}{x_{1,2}}  & \\color{red}{x_{1,3}} & \\color{blue}{x_{1,4}} \\\\\n",
    "    \\color{red}{x_{2,1}}  & \\color{red}{x_{2,2}}  & \\color{red}{x_{2,3}} & \\color{blue}{x_{1,4}} \\\\\n",
    "    \\color{red}{x_{3,1}}  & \\color{red}{x_{3,2}}  & \\color{red}{x_{3,3}} & \\color{blue}{x_{1,4}} \\\\\n",
    "    \\color{red}{0}  & \\color{red}{0}  & \\color{red}{0} & \\color{blue}{1} \\\\\n",
    "  \\end{array}\\right)\n",
    "$$\n",
    "\n",
    "La submatriz $\\color{red}{\\text{roja}}$, $3\\times 3$ es responsable de la rotación, escalamiento y cizallamiento de las coordenadas (ver https://es.wikipedia.org/wiki/Transformaci%C3%B3n_af%C3%ADn#Transformaci%C3%B3n_de_im%C3%A1genes).\n",
    "\n",
    "El vector $\\color{blue}{\\text{azul}}$ es responsable de la corrección de posición.\n",
    "\n",
    "La última fila y columna de la matriz se agrega por conveniencia, porque nos permite calcular directamente la transformación entre el sistema de coordenadas en un solo paso en lugar de 2."
   ]
  },
  {
   "cell_type": "markdown",
   "id": "093c2970",
   "metadata": {},
   "source": [
    "podemos acceder al tamaño de voxel, en mm, usando la función ``header.get_zooms()`` provista por **nibabel**."
   ]
  },
  {
   "cell_type": "code",
   "execution_count": null,
   "id": "opening-domain",
   "metadata": {},
   "outputs": [],
   "source": [
    "print(brain_mri.header.get_zooms())"
   ]
  },
  {
   "cell_type": "markdown",
   "id": "524f84f9-3c99-4727-a1d2-585f570c1d55",
   "metadata": {},
   "source": [
    "Puede cortar el volumen en todas las orientaciones: axial, coronal y sagital.<br />\n",
    "**NOTA: Dependiendo de la orientación del escaneo, los índices cambian**<br />\n",
    "A veces el primer eje corta axialmente, a veces coronal y a veces sagital.\n",
    "\n",
    "Puede averiguar la orientación utilizando **nib.aff2axcodes(affine)**\n",
    "Recuerde la orientación anatómica de la introducción médica."
   ]
  },
  {
   "cell_type": "code",
   "execution_count": null,
   "id": "accompanied-birthday",
   "metadata": {},
   "outputs": [],
   "source": [
    "nib.aff2axcodes(affine)"
   ]
  },
  {
   "cell_type": "markdown",
   "id": "8176e8f6-55e0-413a-82fc-0a07ffcb581b",
   "metadata": {},
   "source": [
    "En este caso, la orientación del escaneo es:\n",
    "* **de anterior a posterior (de adelante hacia atrás)**\n",
    "* **de inferior a superior (de abajo hacia arriba)**\n",
    "* **de izquierda a derecha**\n",
    "\n",
    "Las letras devueltas por aff2axcodes siempre indican **el final del eje correspondiente**.\n",
    "\n",
    "Esto también explica por qué el escaneo está al revés, cuando se corta a lo largo del eje del puño (coronal). A medida que el segundo eje se mueve de abajo hacia arriba, el primer corte **no** es la parte superior de la cabeza, sino una parte del cuello."
   ]
  },
  {
   "cell_type": "markdown",
   "id": "ecdfddf8-b20a-450e-88a8-bcd9a50cf3ad",
   "metadata": {},
   "source": [
    "Analicemos todas las orientaciones para tener una idea:\n",
    "\n",
    "Al principio nos movemos a lo largo del primer eje (anterior a posterior). Esto se mueve a través de la cabeza desde la cara hasta la parte posterior de la cabeza.\n",
    "\n",
    "### Vista coronal"
   ]
  },
  {
   "cell_type": "code",
   "execution_count": null,
   "id": "incorporate-perry",
   "metadata": {},
   "outputs": [],
   "source": [
    "fig, axis = plt.subplots(1, 2)\n",
    "axis[0].imshow(brain_mri_data[40, :, :], cmap=\"gray\")\n",
    "axis[1].imshow(brain_mri_data[120, :, :], cmap=\"gray\")\n"
   ]
  },
  {
   "cell_type": "markdown",
   "id": "b81cc384",
   "metadata": {},
   "source": [
    "### Vista axial"
   ]
  },
  {
   "cell_type": "code",
   "execution_count": null,
   "id": "alpine-bibliography",
   "metadata": {},
   "outputs": [],
   "source": [
    "fig, axis = plt.subplots(1, 2)\n",
    "axis[0].imshow(brain_mri_data[:, 30, :], cmap=\"gray\")\n",
    "axis[1].imshow(brain_mri_data[:, 200, :], cmap=\"gray\")\n"
   ]
  },
  {
   "cell_type": "markdown",
   "id": "8c0547c7",
   "metadata": {},
   "source": [
    "### Vista sagital"
   ]
  },
  {
   "cell_type": "code",
   "execution_count": null,
   "id": "dominican-brick",
   "metadata": {},
   "outputs": [],
   "source": [
    "fig, axis = plt.subplots(1, 2)\n",
    "axis[0].imshow(brain_mri_data[:, :, 20], cmap=\"gray\")\n",
    "axis[1].imshow(brain_mri_data[:, :, 45], cmap=\"gray\")\n"
   ]
  },
  {
   "cell_type": "code",
   "execution_count": null,
   "id": "caf1ce14",
   "metadata": {},
   "outputs": [],
   "source": [
    "fig, axis = plt.subplots(1, 2)\n",
    "\n",
    "brain_mri_swapped = np.swapaxes(brain_mri_data, 0, 1)\n",
    "axis[0].imshow(brain_mri_swapped[:, :, 20], cmap=\"gray\")\n",
    "axis[1].imshow(brain_mri_swapped[:, :, 45], cmap=\"gray\")\n"
   ]
  },
  {
   "cell_type": "markdown",
   "id": "321ae8a6",
   "metadata": {},
   "source": [
    "## Transformación de coordenadas"
   ]
  },
  {
   "cell_type": "markdown",
   "id": "76a0abfa-f65d-4866-afe9-d7e20fa35fef",
   "metadata": {},
   "source": [
    "Como ejemplo, si desea calcular las coordenadas físicas del desplazamiento, es decir, dónde se encuentran las coordenadas del vóxel (0,0,0) en el espacio físico, simplemente multiplica la matriz afín por esas coordenadas.\n",
    "\n",
    "Tenga en cuenta que agrega el 1 para mayor comodidad al trabajar con la matriz $4\\times 4$"
   ]
  },
  {
   "cell_type": "code",
   "execution_count": null,
   "id": "compact-robin",
   "metadata": {},
   "outputs": [],
   "source": [
    "voxel_coord = np.array((0, 0, 0, 1))\n",
    "physical_coord0 = affine @ voxel_coord  # @ is a shortcut for matrix multiplication in numpy\n",
    "print(physical_coord0)"
   ]
  },
  {
   "cell_type": "markdown",
   "id": "european-effort",
   "metadata": {},
   "source": [
    "Recordemos que la matriz afín es:\n",
    "\n",
    "$$\\begin{pmatrix}\n",
    "1.89821944e-02 & -2.72075552e-03 & 1.19975281e+00 & -9.06798553e+01\\\\\n",
    "-9.27821696e-01 &  1.32986516e-01 & 2.45456006e-02 & 1.02829445e+02\\\\\n",
    " 1.33014351e-01 &  9.28015888e-01 &  5.71511449e-11 & -1.14823784e+02\\\\\n",
    " 0.00000000e+00 &  0.00000000e+00 &  0.00000000e+00 & 1.00000000e+00\\\\\n",
    "\\end{pmatrix}\n",
    "$$"
   ]
  },
  {
   "cell_type": "markdown",
   "id": "italian-bible",
   "metadata": {},
   "source": [
    "Al calcular la multiplicación de matrices calculamos efectivamente los siguientes productos:\n",
    "$$ 1.89e-02 * 0 + -2.7e-03 * 0 + 1.19 * 0 + (-9.06e+01) = -9.06e01 = -90.67$$\n",
    "$$ -9.27e-01 * 0 +  1.32e-01 * 0 + 2.45e-02 * 0 + 1.028e+02 = 102.8$$\n",
    "$$  1.33e-01 * 0 +  9.2e-01 * 0 5.71e-11 *0 + (-1.14e+02) = -114.82 $$\n",
    "$$ 0*0 + 0*0 + 0*0 +1+1 = 1$$\n",
    "\n",
    "Como puede ver, la incorporación de la cuarta columna y fila habilita este acceso directo."
   ]
  },
  {
   "cell_type": "markdown",
   "id": "a72f63c1",
   "metadata": {},
   "source": [
    "Por supuesto, también puedes saltarte el atajo y calcular el resultado a mano. Para hacerlo, extrae la submatriz $3\\times 3$ y la multiplicas por las coordenadas_voxel. Posteriormente agregas el vector de traducción (sin el último 1)"
   ]
  },
  {
   "cell_type": "code",
   "execution_count": null,
   "id": "55926aac",
   "metadata": {},
   "outputs": [],
   "source": [
    "voxel_coord_manual = np.array((0, 0, 0))\n",
    "physical_coord_manual = affine[:3, :3] @ voxel_coord_manual\n",
    "physical_coord_manual = physical_coord_manual + affine[:3,3]\n",
    "print(physical_coord_manual)"
   ]
  },
  {
   "cell_type": "markdown",
   "id": "4e48e2d1",
   "metadata": {},
   "source": [
    "Si desea transformar coordenadas físicas en coordenadas de píxeles/vóxeles, debe calcular la inversa de la matriz afín (``np.linalg.inv(arr)`` y luego multiplicar esta inversa con las coordenadas físicas.\r\n",
    "Como ejemplo, si queremos obtener las coordenadas de vóxel de nuestro desplazamiento<br /> ( -90.67985535 102.82944489 -114.8237838\r\n",
    ") necesitamos realizar el siguiente cálculo:"
   ]
  },
  {
   "cell_type": "code",
   "execution_count": null,
   "id": "b81c5da8",
   "metadata": {},
   "outputs": [],
   "source": [
    "voxel_coords = (np.linalg.inv(affine) @ physical_coord0).round()\n",
    "print(voxel_coords)"
   ]
  },
  {
   "cell_type": "markdown",
   "id": "tested-transcription",
   "metadata": {},
   "source": [
    "## Reorientación"
   ]
  },
  {
   "cell_type": "markdown",
   "id": "5396cc1f",
   "metadata": {},
   "source": [
    "Si lo desea, puede reorientar el volumen a RAS usando ``nibabel.as_closest_canonical(nifti)``<br />\r\n",
    "Esto también se llama orientación canónica."
   ]
  },
  {
   "cell_type": "code",
   "execution_count": null,
   "id": "successful-oxford",
   "metadata": {},
   "outputs": [],
   "source": [
    "brain_mri_canonical = nib.as_closest_canonical(brain_mri)\n",
    "brain_mri_canonical_data = brain_mri_canonical.get_fdata()"
   ]
  },
  {
   "cell_type": "code",
   "execution_count": null,
   "id": "sacred-lottery",
   "metadata": {},
   "outputs": [],
   "source": [
    "canonical_affine = brain_mri_canonical.affine\n",
    "print(affine)\n",
    "print(\"----\")\n",
    "print(canonical_affine)\n",
    "print(nib.aff2axcodes(canonical_affine))"
   ]
  },
  {
   "cell_type": "markdown",
   "id": "88b4a058",
   "metadata": {},
   "source": [
    "¿Puedes ver las diferencias? simplemente permutó las entradas en la submatriz $3 \\times 3$.\r\n",
    "El desplazamiento, por supuesto, cambia porque ahora comenzamos en posiciones diferentes."
   ]
  },
  {
   "cell_type": "code",
   "execution_count": null,
   "id": "entire-binary",
   "metadata": {},
   "outputs": [],
   "source": [
    "fig, axis = plt.subplots(1, 2)\n",
    "axis[0].imshow(brain_mri_canonical_data[50, :, :], cmap=\"gray\")\n",
    "axis[1].imshow(brain_mri_canonical_data[130, :, :], cmap=\"gray\")\n"
   ]
  },
  {
   "cell_type": "code",
   "execution_count": null,
   "id": "collect-cannon",
   "metadata": {},
   "outputs": [],
   "source": [
    "fig, axis = plt.subplots(1, 2)\n",
    "axis[0].imshow(brain_mri_canonical_data[:, 40, :], cmap=\"gray\")\n",
    "axis[1].imshow(brain_mri_canonical_data[:, 90, :], cmap=\"gray\")\n"
   ]
  },
  {
   "cell_type": "code",
   "execution_count": null,
   "id": "treated-front",
   "metadata": {},
   "outputs": [],
   "source": [
    "fig, axis = plt.subplots(1, 2)\n",
    "axis[0].imshow(brain_mri_canonical_data[:, :, 5], cmap=\"gray\")\n",
    "axis[1].imshow(brain_mri_canonical_data[:, :, 70], cmap=\"gray\")\n"
   ]
  },
  {
   "cell_type": "markdown",
   "id": "hazardous-casino",
   "metadata": {},
   "source": [
    "# Remuestreo"
   ]
  },
  {
   "cell_type": "markdown",
   "id": "still-screening",
   "metadata": {},
   "source": [
    "Es posible que también desee cambiar el tamaño de su escaneo, ya que podría ser demasiado grande para su sistema.\r\n",
    "Sin embargo, cambiar el tamaño de un volumen no es tan fácil como cambiar el tamaño de una imagen porque es necesario cambiar el tamaño del vóxel.\r\n",
    "\r\n",
    "Cambiemos el tamaño de nuestra resonancia magnética cerebral de (256, 256, 150) a (128, 128, 100)"
   ]
  },
  {
   "cell_type": "code",
   "execution_count": null,
   "id": "relevant-laugh",
   "metadata": {},
   "outputs": [],
   "source": [
    "print(brain_mri.shape)\n",
    "print(brain_mri.header.get_zooms())"
   ]
  },
  {
   "cell_type": "markdown",
   "id": "92cda6c7",
   "metadata": {},
   "source": [
    "Para hacerlo, puede usar ``conform(input, wanted_shape, voxel_size)`` de *nibabel.processing*, que vuelve a muestrear la imagen con la forma deseada.\r\n",
    "Tenga en cuenta que debe cambiar el tamaño del vóxel, ya que de lo contrario sería imposible reducir el tamaño.\r\n",
    "Simplemente usemos un tamaño de vóxel de $(2 \\times 2 \\times 2)$mm"
   ]
  },
  {
   "cell_type": "code",
   "execution_count": null,
   "id": "26c9d2e9",
   "metadata": {},
   "outputs": [],
   "source": [
    "import nibabel.processing"
   ]
  },
  {
   "cell_type": "code",
   "execution_count": null,
   "id": "19fddf00",
   "metadata": {},
   "outputs": [],
   "source": [
    "voxel_size = (2, 2, 2)\n",
    "brain_mri_resized = nibabel.processing.conform(brain_mri, (128, 128, 100), voxel_size, orientation=\"PSR\")\n",
    "brain_mri_resized_data = brain_mri_resized.get_fdata()"
   ]
  },
  {
   "cell_type": "code",
   "execution_count": null,
   "id": "moving-secondary",
   "metadata": {},
   "outputs": [],
   "source": [
    "print(brain_mri.shape)\n",
    "print(brain_mri_resized.shape)\n",
    "print(brain_mri_resized.header.get_zooms())"
   ]
  },
  {
   "cell_type": "markdown",
   "id": "437f97ae",
   "metadata": {},
   "source": [
    "Como puede ver, ¡la imagen remuestreada todavía se parece a la original!"
   ]
  },
  {
   "cell_type": "code",
   "execution_count": null,
   "id": "taken-storage",
   "metadata": {},
   "outputs": [],
   "source": [
    "IDX = 50\n",
    "fig, axis = plt.subplots(1, 2)\n",
    "axis[0].imshow(brain_mri_data[:,:,IDX], cmap=\"gray\")\n",
    "axis[1].imshow(brain_mri_resized_data[:,:,IDX], cmap=\"gray\")\n"
   ]
  },
  {
   "cell_type": "markdown",
   "id": "productive-financing",
   "metadata": {},
   "source": [
    "## Normalización y estandarización"
   ]
  },
  {
   "cell_type": "markdown",
   "id": "7e16330b",
   "metadata": {},
   "source": [
    "## CT"
   ]
  },
  {
   "cell_type": "markdown",
   "id": "d4dd9037",
   "metadata": {},
   "source": [
    "Como las TCs tienen una escala fija de -1000 (aire) a 1000 (agua) (esto se llama unidad de Houndsfield), normalmente no realiza la normalización para mantener esas escalas.\r\n",
    "\r\n",
    "En la práctica, se puede suponer que los valores están entre -1024 y 3071.\r\n",
    "\r\n",
    "De esta manera puedes estandarizar los datos dividiendo el volumen por 3071.\r\n",
    "\r\n",
    "Para demostrar esto, cargaremos la TC de un sujeto contenido en el desafío de segmentación de tumores de pulmón decathlon de segmentación médica (http://medicaldecathlon.com/, https://arxiv.org/abs/1902.ctorio (Licencia: CC BY-SA 4.0, https://creativecommons.org/licenses/by-sa/4.0/)"
   ]
  },
  {
   "cell_type": "code",
   "execution_count": null,
   "id": "5c22151f",
   "metadata": {},
   "outputs": [],
   "source": [
    "lung_ct = nib.load(\"lung_043.nii.gz\")\n",
    "lung_ct_data = lung_ct.get_fdata()"
   ]
  },
  {
   "cell_type": "code",
   "execution_count": null,
   "id": "b4404cd2",
   "metadata": {},
   "outputs": [],
   "source": [
    "lung_ct_data_standardized = lung_ct_data / 3071"
   ]
  },
  {
   "cell_type": "code",
   "execution_count": null,
   "id": "4690a100",
   "metadata": {},
   "outputs": [],
   "source": [
    "plt.figure()\n",
    "plt.imshow(np.rot90(lung_ct_data_standardized[:,:,50]), cmap=\"gray\")"
   ]
  },
  {
   "cell_type": "markdown",
   "id": "c4773286",
   "metadata": {},
   "source": [
    "## Enventanado:\n",
    "\n",
    "Dependiendo de la tarea que realices querrás tener un contraste diferente.<br />\r\n",
    "Por ejemplo, si desea inspeccionar el pulmón, es importante poder ver todos los vasos pequeños.<br />\r\n",
    "En cambio, a la hora de examinar el cuerpo es importante tener un alto contraste, para poder diferenciar distintos tejidos.\r\n",
    "\r\n",
    "Este cambio en contraste se llama ventana.<br />\r\n",
    "Generalmente hay cuatro ventanas diferentes: una ventana de pulmón, una ventana de hueso, una ventana de tejido blando y una ventana de cerebro.<br />\r\n",
    "Puede crear una ventana de este tipo recortando todos los valores de píxeles mayores que un umbral.\r\n",
    "\r\n",
    "Echemos un vistazo a la ventana de los pulmones y los tejidos blandos."
   ]
  },
  {
   "cell_type": "markdown",
   "id": "4f77cd04",
   "metadata": {},
   "source": [
    "Para obtener una buena ventana pulmonar, puede recortar todos los valores mayores que -1000 a -500. Tenga en cuenta que esta ventana nos impide por completo echar un vistazo al abdomen ya que todo parece idéntico."
   ]
  },
  {
   "cell_type": "code",
   "execution_count": null,
   "id": "a0026635",
   "metadata": {},
   "outputs": [],
   "source": [
    "lung_ct_lung_window = np.clip(lung_ct_data, -1000, -500)\n",
    "\n",
    "fig, axis = plt.subplots(1, 2)\n",
    "axis[0].imshow(np.rot90(lung_ct_lung_window[:,:,50]), cmap=\"gray\")\n",
    "axis[1].imshow(np.rot90(lung_ct_lung_window[:,:,5]), cmap=\"gray\")\n",
    "axis[0].axis(\"off\")\n",
    "axis[1].axis(\"off\")\n",
    "fig.suptitle(\"Lung Window\")\n",
    "plt.tight_layout()\n",
    "plt.savefig(\"lung_window.png\", bbox_inches=\"tight\")\n"
   ]
  },
  {
   "cell_type": "markdown",
   "id": "fea8b666",
   "metadata": {},
   "source": [
    "Para obtener una buena ventana de tejido blando, puede recortar todos los valores entre -250 y 250. Aquí el pulmón es casi negro pero tiene una bonita imagen del abdomen."
   ]
  },
  {
   "cell_type": "code",
   "execution_count": null,
   "id": "southern-spending",
   "metadata": {},
   "outputs": [],
   "source": [
    "lung_ct_soft_tissue_window = np.clip(lung_ct_data, -250, 250)\n",
    "\n",
    "fig, axis = plt.subplots(1, 2)\n",
    "axis[0].imshow(np.rot90(lung_ct_soft_tissue_window[:,:,50]), cmap=\"gray\")\n",
    "axis[1].imshow(np.rot90(lung_ct_soft_tissue_window[:,:,5]), cmap=\"gray\")\n",
    "\n",
    "axis[0].axis(\"off\")\n",
    "axis[1].axis(\"off\")\n",
    "fig.suptitle(\"Soft Tissue Window\")\n",
    "plt.tight_layout()\n",
    "plt.savefig(\"tissue_window.png\", bbox_inches=\"tight\")\n"
   ]
  },
  {
   "cell_type": "markdown",
   "id": "4356df9c-1afe-4bfe-a75c-638aec78d17c",
   "metadata": {},
   "source": [
    "## MRI\n",
    "A diferencia de las tomografías computarizadas, las imágenes de resonancia magnética no tienen una escala fija absoluta y cada paciente varía.\n",
    "\n",
    "Por lo tanto, puede normalizar $z$ las exploraciones según el paciente.\n",
    "\n",
    "$$ X_{\\text{norm}} = \\frac{X - \\mu}{\\sigma}$$\n",
    "\n",
    "Además, puede realizar un escalado mínimo-máximo.\n",
    "$$X_{\\text{standardized}} = \\frac{X - \\mathrm{min}(X)}{\\mathrm{max}(X) - \\mathrm{min}(X)} $$\n",
    "\n",
    "Para demostrar esto, utilizaremos una resonancia magnética cardíaca de la tarea de segmentación de aurículas de decatlón de segmentación médica. (Los mismos enlaces que para el CT)"
   ]
  },
  {
   "cell_type": "code",
   "execution_count": null,
   "id": "a1e0e9d4",
   "metadata": {},
   "outputs": [],
   "source": [
    "cardiac_mri = nib.load(\"la_003.nii.gz\")\n",
    "cardiac_mri_data = cardiac_mri.get_fdata()"
   ]
  },
  {
   "cell_type": "code",
   "execution_count": null,
   "id": "4fcdaf27",
   "metadata": {},
   "outputs": [],
   "source": [
    "mean, std = np.mean(cardiac_mri_data), np.std(cardiac_mri_data)\n",
    "cardiac_mri_norm = (cardiac_mri_data - mean) / std\n",
    "cardiac_mri_standardized = (cardiac_mri_norm - np.min(cardiac_mri_norm)) / (np.max(cardiac_mri_norm) - np.min(cardiac_mri_norm))"
   ]
  },
  {
   "cell_type": "code",
   "execution_count": null,
   "id": "a179dce3",
   "metadata": {},
   "outputs": [],
   "source": [
    "plt.figure()\n",
    "plt.imshow(cardiac_mri_standardized[:,:,30], cmap=\"gray\")"
   ]
  },
  {
   "cell_type": "markdown",
   "id": "5688a56c",
   "metadata": {},
   "source": [
    "Normalmente no hay ventanas en las exploraciones por resonancia magnética.\n",
    "Esas dos técnicas de normalización deberían adaptarse a la mayoría de las tareas.\r\n",
    "Tenga en cuenta que existen algunas técnicas más específicas, como la normalización de la materia blanca para resonancias magnéticas cerebrales o la corrección de campo de sesgo para imágenes de resonancia magnética ligeramente corruptas."
   ]
  }
 ],
 "metadata": {
  "kernelspec": {
   "display_name": "Python 3 (ipykernel)",
   "language": "python",
   "name": "python3"
  },
  "language_info": {
   "codemirror_mode": {
    "name": "ipython",
    "version": 3
   },
   "file_extension": ".py",
   "mimetype": "text/x-python",
   "name": "python",
   "nbconvert_exporter": "python",
   "pygments_lexer": "ipython3",
   "version": "3.11.8"
  }
 },
 "nbformat": 4,
 "nbformat_minor": 5
}
