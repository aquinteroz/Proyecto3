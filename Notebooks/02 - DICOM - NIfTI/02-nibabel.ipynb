{
 "cells": [
  {
   "cell_type": "markdown",
   "id": "changed-multiple",
   "metadata": {},
   "source": [
    "En este *Notebook* aprenderás a trabajar con datos de imágenes médicas almacenados en formato NIfTI.\r\n",
    "\r\n",
    "Echaremos un vistazo al paquet**e nibab**en que permite manejar archivos NIfTI.\r\n",
    "\r\n",
    "En un primer paso convertiremos los datos DICOM de la sesión anterior al formato NIfTI y continuaremos desde allí."
   ]
  },
  {
   "cell_type": "markdown",
   "id": "6f4db968-42b1-4944-bffd-9d58bf34fbe8",
   "metadata": {},
   "source": [
    "## Conversión de DICOM a NIfTI\n",
    "Puede resultar muy útil convertir los archivos DICOM al formato NIftI antes de procesarlos, ya que los archivos NIfTI son más fáciles de manejar. Hay muchas herramientas, usaremos **dicom2nifti**:"
   ]
  },
  {
   "cell_type": "code",
   "execution_count": null,
   "id": "b48959a4",
   "metadata": {},
   "outputs": [],
   "source": [
    "import dicom2nifti\n",
    "from pathlib import Path"
   ]
  },
  {
   "cell_type": "markdown",
   "id": "c4e3cac2",
   "metadata": {},
   "source": [
    "Para demostrar la conversión de DICOM a NIfTI utilizaremos el conjunto de datos DICOM descargado en el trabajo sobre datos DICOM."
   ]
  },
  {
   "cell_type": "code",
   "execution_count": null,
   "id": "77a7223f",
   "metadata": {},
   "outputs": [],
   "source": [
    "path_to_dicom = \"SE000001\""
   ]
  },
  {
   "cell_type": "code",
   "execution_count": null,
   "id": "e06a5969",
   "metadata": {
    "scrolled": true
   },
   "outputs": [],
   "source": [
    "dicom2nifti.convert_directory(path_to_dicom, \".\")"
   ]
  },
  {
   "cell_type": "markdown",
   "id": "598ced96",
   "metadata": {},
   "source": [
    "Ahora encontrará el archivo *201_t2w_tse.nii.gz* en *path_to_dicom* (eche un vistazo)"
   ]
  },
  {
   "cell_type": "markdown",
   "id": "ab49c9b6-f224-447b-8aba-a529a12f20f7",
   "metadata": {},
   "source": [
    "## Leer archivos NIfTI\n",
    "\n",
    "Ahora, procedemos al proceso de lectura y exploración de archivos NIfTI.\n",
    "\n",
    "Primero importamos los paquetes necesarios.\n",
    "\n",
    "## Importaciones\n",
    "\n",
    "* **nibabel** para manejar archivos nifti\n",
    "* **matplotlib** para trazar las imágenes del cerebro"
   ]
  },
  {
   "cell_type": "code",
   "execution_count": null,
   "id": "opened-discussion",
   "metadata": {},
   "outputs": [],
   "source": [
    "import nibabel as nib\n",
    "import matplotlib.pyplot as plt\n"
   ]
  },
  {
   "cell_type": "markdown",
   "id": "5aca3820-b866-4fb5-8232-8d6dec8727fe",
   "metadata": {},
   "source": [
    "¡Este único archivo NIfTI creado anteriormente contiene la exploración por resonancia magnética 3D completa!\n",
    "Podemos cargarlo usando ``nib.load(ruta)``"
   ]
  },
  {
   "cell_type": "code",
   "execution_count": null,
   "id": "1f311c17",
   "metadata": {},
   "outputs": [],
   "source": [
    "nifti = nib.load('201_t2w_tse.nii.gz')"
   ]
  },
  {
   "cell_type": "markdown",
   "id": "ancient-victor",
   "metadata": {},
   "source": [
    "Puede imprimir este objeto para ver los metadatos, incluida la información del **encabezado** de NIftI:"
   ]
  },
  {
   "cell_type": "code",
   "execution_count": null,
   "id": "intermediate-rubber",
   "metadata": {},
   "outputs": [],
   "source": [
    "print(nifti)"
   ]
  },
  {
   "cell_type": "markdown",
   "id": "ec513ba5",
   "metadata": {},
   "source": [
    "Puede acceder a entradas de encabezado único de la siguiente manera sencilla:"
   ]
  },
  {
   "cell_type": "markdown",
   "id": "c46ffb73",
   "metadata": {},
   "source": [
    "Puede acceder a entradas de metadatos individuales de la siguiente manera:"
   ]
  },
  {
   "cell_type": "code",
   "execution_count": null,
   "id": "armed-frequency",
   "metadata": {},
   "outputs": [],
   "source": [
    "nifti.header[\"qoffset_x\"]"
   ]
  },
  {
   "cell_type": "code",
   "execution_count": null,
   "id": "d3240ab7",
   "metadata": {},
   "outputs": [],
   "source": [
    "print(nifti.shape)\n",
    "print(nifti.header.get_data_shape())"
   ]
  },
  {
   "cell_type": "markdown",
   "id": "6fae9e25-bc73-4dbb-bc0b-a8e8349b203e",
   "metadata": {},
   "source": [
    "Obteniendo imagen **datos de píxeles**:\n",
    "\n",
    "Los datos de píxeles de la imagen se pueden extraer utilizando la función ``get_fdata()`` del objeto nifti."
   ]
  },
  {
   "cell_type": "code",
   "execution_count": null,
   "id": "atomic-optimization",
   "metadata": {},
   "outputs": [],
   "source": [
    "image_array = nifti.get_fdata()\n",
    "print(image_array.dtype, image_array.shape)"
   ]
  },
  {
   "cell_type": "markdown",
   "id": "6ee249f5-335a-4a94-86c8-91c9b665df18",
   "metadata": {},
   "source": [
    "Finalmente podemos echar un vistazo al escáner cerebral.\n",
    "\n",
    "No olvides pasar ``cmap=\"gray\"`` a ``imshow``; de lo contrario, tu imagen se verá bastante extraña."
   ]
  },
  {
   "cell_type": "code",
   "execution_count": null,
   "id": "alpha-ordering",
   "metadata": {},
   "outputs": [],
   "source": [
    "fig, axis = plt.subplots(3, 3, figsize=(10, 10))\n",
    "\n",
    "slice_counter = 0\n",
    "for i in range(3):\n",
    "    for j in range(3):\n",
    "        axis[i][j].imshow(image_array[:,:,slice_counter], cmap=\"gray\")\n",
    "        slice_counter+=1"
   ]
  },
  {
   "cell_type": "markdown",
   "id": "0233bc48",
   "metadata": {},
   "source": [
    "### Escribir archivos NIfTI\r\n",
    "Muchas veces, obtendrá datos de imágenes como resultado de un algoritmo o paso de procesamiento que desea almacenar en formato NIfTI. Esto se puede hacer fácilmente usando NiBabel. Como ejemplo, utilizamos la matriz de imágenes 3D de arriba, realizamos un paso de procesamiento simple y lo guardamos como un nuevo archivo NIfTI."
   ]
  },
  {
   "cell_type": "code",
   "execution_count": null,
   "id": "3786d253",
   "metadata": {},
   "outputs": [],
   "source": [
    "image_array_processed = image_array * (image_array>300)"
   ]
  },
  {
   "cell_type": "code",
   "execution_count": null,
   "id": "c25b3875",
   "metadata": {},
   "outputs": [],
   "source": [
    "plt.imshow(image_array[:,:,13],cmap=\"gray\") \n",
    "plt.axis(\"off\")\n",
    "plt.figure()\n",
    "plt.imshow(image_array_processed[:,:,13],cmap=\"gray\")\n",
    "plt.axis(\"off\")"
   ]
  },
  {
   "cell_type": "markdown",
   "id": "6d86e9cf",
   "metadata": {},
   "source": [
    "Primero, convertimos la matriz de imágenes procesadas nuevamente en un objeto nifti. Para este fin utilizamos la matriz numpy de la imagen procesada y la información del encabezado sobre la geometría de la imagen (matriz afín) del archivo NIftI original:"
   ]
  },
  {
   "cell_type": "code",
   "execution_count": null,
   "id": "8db91a7e",
   "metadata": {},
   "outputs": [],
   "source": [
    "processed_nifti = nib.Nifti1Image(image_array_processed, nifti.affine)"
   ]
  },
  {
   "cell_type": "markdown",
   "id": "bfa182d6",
   "metadata": {},
   "source": [
    "Ahora podemos guardar la imagen procesada usando la función de guardar en NiBabel:"
   ]
  },
  {
   "cell_type": "code",
   "execution_count": null,
   "id": "424bf58e",
   "metadata": {},
   "outputs": [],
   "source": [
    "nib.save(processed_nifti, '201_t2w_tse_processed.nii.gz')"
   ]
  }
 ],
 "metadata": {
  "kernelspec": {
   "display_name": "Python 3 (ipykernel)",
   "language": "python",
   "name": "python3"
  },
  "language_info": {
   "codemirror_mode": {
    "name": "ipython",
    "version": 3
   },
   "file_extension": ".py",
   "mimetype": "text/x-python",
   "name": "python",
   "nbconvert_exporter": "python",
   "pygments_lexer": "ipython3",
   "version": "3.11.8"
  }
 },
 "nbformat": 4,
 "nbformat_minor": 5
}
