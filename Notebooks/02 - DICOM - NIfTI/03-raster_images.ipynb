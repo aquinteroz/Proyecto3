{
 "cells": [
  {
   "cell_type": "markdown",
   "id": "ff2af37c-fea0-4830-b6e3-64f1cfe661c9",
   "metadata": {},
   "source": [
    "# Ejemplo de trabajo con imágenes *raster*"
   ]
  },
  {
   "cell_type": "code",
   "execution_count": 9,
   "id": "51d5c573-69e3-4bca-a48b-9c1b59e53005",
   "metadata": {},
   "outputs": [
    {
     "name": "stdout",
     "output_type": "stream",
     "text": [
      "Atributos de la imagen: colors.jpg\n",
      "El formato de la imagen es JPEG\n",
      "El modo de la imagen es RGB\n",
      "El tamaño de la imagen es: Ancho 264 x Alto 148\n",
      "La paleta de colores es None\n",
      "Claves del diccionario image.info:\n",
      "jfif\n",
      "jfif_version\n",
      "jfif_unit\n",
      "jfif_density\n"
     ]
    }
   ],
   "source": [
    "from PIL import Image\n",
    "\n",
    "def printImageAttributes(imageObject, imagePath):\n",
    "    fileFormat      = imageObject.format \n",
    "    imageMode       = imageObject.mode   \n",
    "    imageSize       = imageObject.size   \n",
    "    colorPalette    = imageObject.palette\n",
    "\n",
    "    print(f\"Atributos de la imagen: {imagePath}\")\n",
    "    print(f\"El formato de la imagen es {fileFormat}\")\n",
    "    print(f\"El modo de la imagen es {imageMode}\")\n",
    "    print(f\"El tamaño de la imagen es: Ancho {imageSize[0]} x Alto {imageSize[1]}\")\n",
    "    print(f\"La paleta de colores es {colorPalette}\")\n",
    "    print(f\"Claves del diccionario image.info:\")\n",
    "\n",
    "    for key, value in imageObject.info.items() :\n",
    "        print(f\"*key)\n",
    "        \n",
    "imagePath       = \"colors.jpg\"\n",
    "imagePathTemp   = \"TempImage\"\n",
    "image           = Image.open(imagePath)\n",
    "\n",
    "printImageAttributes(image, imagePath)"
   ]
  },
  {
   "cell_type": "code",
   "execution_count": null,
   "id": "ad7fc150-244e-4cdc-88cc-65ad7438ed4e",
   "metadata": {},
   "outputs": [],
   "source": [
    "from PIL import Image\n",
    "\n",
    "def show_exif_tags(name):\n",
    "    imagen = Image.open(name)\n",
    "    tags_exif = imagen._getexif()\n",
    "    if tags_exif:\n",
    "        for tag, valor in tags_exif.items():\n",
    "            print(f\"Tag Exif: {tag}, Valor: {valor}\")\n",
    "    else:\n",
    "        print(\"La imagen no contiene tags Exif.\")\n",
    "\n",
    "show_exif_tags('flor.jpg')"
   ]
  },
  {
   "cell_type": "code",
   "execution_count": null,
   "id": "db8e020b-f8c1-4d88-9e2a-2dc6997a09a2",
   "metadata": {
    "scrolled": true
   },
   "outputs": [],
   "source": [
    "import exifread\n",
    "# Open image file for reading (must be in binary mode)\n",
    "f = open('flor.jpg', 'rb')\n",
    "\n",
    "# Return Exif tags\n",
    "tags = exifread.process_file(f)\n",
    "for tag in tags.keys():\n",
    "    if tag not in ('JPEGThumbnail', 'TIFFThumbnail', 'Filename', 'EXIF MakerNote'):\n",
    "        print(f\"Key: {tag}, value {tags[tag]}\")"
   ]
  }
 ],
 "metadata": {
  "kernelspec": {
   "display_name": "Python 3 (ipykernel)",
   "language": "python",
   "name": "python3"
  },
  "language_info": {
   "codemirror_mode": {
    "name": "ipython",
    "version": 3
   },
   "file_extension": ".py",
   "mimetype": "text/x-python",
   "name": "python",
   "nbconvert_exporter": "python",
   "pygments_lexer": "ipython3",
   "version": "3.11.8"
  }
 },
 "nbformat": 4,
 "nbformat_minor": 5
}
